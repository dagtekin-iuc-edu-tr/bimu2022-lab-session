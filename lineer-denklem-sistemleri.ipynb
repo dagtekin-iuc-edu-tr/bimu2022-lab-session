{
 "cells": [
  {
   "cell_type": "code",
   "execution_count": 1,
   "metadata": {},
   "outputs": [],
   "source": [
    "import numpy as np"
   ]
  },
  {
   "cell_type": "code",
   "execution_count": 26,
   "metadata": {},
   "outputs": [],
   "source": [
    "A = np.array([\n",
    "                [10,2,3],\n",
    "                [4,5,6],\n",
    "                [7,8,10.7]\n",
    "              ])"
   ]
  },
  {
   "cell_type": "code",
   "execution_count": 17,
   "metadata": {},
   "outputs": [
    {
     "data": {
      "text/plain": [
       "(3, 3)"
      ]
     },
     "execution_count": 17,
     "metadata": {},
     "output_type": "execute_result"
    }
   ],
   "source": [
    "# A'nın boyutları\n",
    "A.shape"
   ]
  },
  {
   "cell_type": "code",
   "execution_count": 10,
   "metadata": {},
   "outputs": [
    {
     "data": {
      "text/plain": [
       "array([[1],\n",
       "       [2],\n",
       "       [3]])"
      ]
     },
     "execution_count": 10,
     "metadata": {},
     "output_type": "execute_result"
    }
   ],
   "source": [
    "# Yeniden boyutlandırma\n",
    "# A.reshape(3,1)"
   ]
  },
  {
   "cell_type": "code",
   "execution_count": 12,
   "metadata": {},
   "outputs": [
    {
     "name": "stdout",
     "output_type": "stream",
     "text": [
      "[[1]\n",
      " [2]\n",
      " [3]]\n"
     ]
    }
   ],
   "source": [
    "# print(A.reshape(3,1))"
   ]
  },
  {
   "cell_type": "code",
   "execution_count": 18,
   "metadata": {},
   "outputs": [
    {
     "name": "stdout",
     "output_type": "stream",
     "text": [
      "[[1 4 7]\n",
      " [2 5 8]\n",
      " [3 6 9]]\n"
     ]
    }
   ],
   "source": [
    "# A'nın transpozesi\n",
    "print(A.T)"
   ]
  },
  {
   "cell_type": "code",
   "execution_count": 30,
   "metadata": {},
   "outputs": [
    {
     "name": "stdout",
     "output_type": "stream",
     "text": [
      "determinant: 44.4000\n"
     ]
    }
   ],
   "source": [
    "# determinant\n",
    "det = np.linalg.det(A).astype(float)\n",
    "# print(f\"determinant: {det:.4f}\")\n",
    "# print(\"determinant: {:.4f}\".format(det))\n",
    "print(\"determinant: %.4f\" % (det))"
   ]
  },
  {
   "attachments": {},
   "cell_type": "markdown",
   "metadata": {},
   "source": [
    "## Matris Operasyonları"
   ]
  },
  {
   "cell_type": "code",
   "execution_count": 57,
   "metadata": {},
   "outputs": [
    {
     "name": "stdout",
     "output_type": "stream",
     "text": [
      "[[1.  2.1 3. ]\n",
      " [4.  5.  6. ]\n",
      " [7.  8.  9. ]]\n"
     ]
    }
   ],
   "source": [
    "A = np.array([[1,2.1,3],[4,5,6],[7,8,9]]).astype(float)\n",
    "print(A)"
   ]
  },
  {
   "cell_type": "code",
   "execution_count": 35,
   "metadata": {},
   "outputs": [],
   "source": [
    "B = A[1,1].copy()"
   ]
  },
  {
   "cell_type": "code",
   "execution_count": 36,
   "metadata": {},
   "outputs": [
    {
     "name": "stdout",
     "output_type": "stream",
     "text": [
      "5.0\n"
     ]
    }
   ],
   "source": [
    "print(B)"
   ]
  },
  {
   "cell_type": "code",
   "execution_count": 37,
   "metadata": {},
   "outputs": [],
   "source": [
    "B = 4"
   ]
  },
  {
   "cell_type": "code",
   "execution_count": 38,
   "metadata": {},
   "outputs": [
    {
     "name": "stdout",
     "output_type": "stream",
     "text": [
      "[[1.  2.1 3. ]\n",
      " [4.  5.  6. ]\n",
      " [7.  8.  9. ]]\n"
     ]
    }
   ],
   "source": [
    "print(A)"
   ]
  },
  {
   "cell_type": "code",
   "execution_count": 43,
   "metadata": {},
   "outputs": [],
   "source": [
    "# slice işlemleri\n",
    "C = A[1,1:3] # 1. satır, 1. ve 2. sütun"
   ]
  },
  {
   "cell_type": "code",
   "execution_count": 44,
   "metadata": {},
   "outputs": [
    {
     "name": "stdout",
     "output_type": "stream",
     "text": [
      "[5. 6.]\n"
     ]
    }
   ],
   "source": [
    "print(C)"
   ]
  },
  {
   "cell_type": "code",
   "execution_count": 45,
   "metadata": {},
   "outputs": [],
   "source": [
    "C = [4,5]"
   ]
  },
  {
   "cell_type": "code",
   "execution_count": 46,
   "metadata": {},
   "outputs": [
    {
     "name": "stdout",
     "output_type": "stream",
     "text": [
      "[[1.  2.1 3. ]\n",
      " [4.  5.  6. ]\n",
      " [7.  8.  9. ]]\n"
     ]
    }
   ],
   "source": [
    "print(A)"
   ]
  },
  {
   "cell_type": "code",
   "execution_count": 48,
   "metadata": {},
   "outputs": [
    {
     "name": "stdout",
     "output_type": "stream",
     "text": [
      "[2.1 5.  8. ]\n"
     ]
    }
   ],
   "source": [
    "D = A[:,1]\n",
    "print(D)"
   ]
  },
  {
   "cell_type": "code",
   "execution_count": 50,
   "metadata": {},
   "outputs": [
    {
     "name": "stdout",
     "output_type": "stream",
     "text": [
      "[[1.  2.1 3. ]\n",
      " [4.  5.  6. ]\n",
      " [7.  8.  9. ]]\n"
     ]
    }
   ],
   "source": [
    "E = A # Copy by reference\n",
    "print(E)"
   ]
  },
  {
   "cell_type": "code",
   "execution_count": 51,
   "metadata": {},
   "outputs": [],
   "source": [
    "E[1,1] = 9.7"
   ]
  },
  {
   "cell_type": "code",
   "execution_count": 52,
   "metadata": {},
   "outputs": [
    {
     "name": "stdout",
     "output_type": "stream",
     "text": [
      "[[1.  2.1 3. ]\n",
      " [4.  9.7 6. ]\n",
      " [7.  8.  9. ]]\n"
     ]
    }
   ],
   "source": [
    "print( A )"
   ]
  },
  {
   "cell_type": "code",
   "execution_count": null,
   "metadata": {},
   "outputs": [],
   "source": [
    "F = A.copy() # Copy by value"
   ]
  },
  {
   "cell_type": "code",
   "execution_count": 58,
   "metadata": {},
   "outputs": [],
   "source": [
    "# 1. satır ile 2. satırı değiştir\n",
    "\n",
    "temp = A[1,:].copy()\n",
    "A[1,:] = A[2,:].copy()\n",
    "A[2,:] = temp.copy()\n"
   ]
  },
  {
   "cell_type": "code",
   "execution_count": 59,
   "metadata": {},
   "outputs": [
    {
     "name": "stdout",
     "output_type": "stream",
     "text": [
      "[[1.  2.1 3. ]\n",
      " [7.  8.  9. ]\n",
      " [4.  5.  6. ]]\n"
     ]
    }
   ],
   "source": [
    "print(A)"
   ]
  },
  {
   "cell_type": "code",
   "execution_count": 60,
   "metadata": {},
   "outputs": [
    {
     "name": "stdout",
     "output_type": "stream",
     "text": [
      "[[1 2 3]\n",
      " [7 8 9]\n",
      " [4 5 6]]\n"
     ]
    }
   ],
   "source": [
    "X = np.array([[1,2,3],[4,5,6],[7,8,9]])\n",
    "# daha kolay bir yöntem\n",
    "X[2,:], X[1,:] = X[1,:].copy(), X[2,:].copy()\n",
    "print(X)"
   ]
  },
  {
   "cell_type": "code",
   "execution_count": 65,
   "metadata": {},
   "outputs": [
    {
     "name": "stdout",
     "output_type": "stream",
     "text": [
      "[[19 22]\n",
      " [43 50]]\n",
      "[[ 5 12]\n",
      " [21 32]]\n",
      "[[1 3]\n",
      " [2 4]]\n"
     ]
    }
   ],
   "source": [
    "# matris çarpımı    \n",
    "\n",
    "H = np.array([[1,2],[3,4]])\n",
    "I = np.array([[5,6],[7,8]])\n",
    "\n",
    "J = H.dot(I) # ya da J = np.dot(H,I)\n",
    "K = H * I # element element çarpma\n",
    "L = H.T\n",
    "\n",
    "\n",
    "print(J)\n",
    "print(K)\n",
    "print(L)"
   ]
  },
  {
   "cell_type": "code",
   "execution_count": 89,
   "metadata": {},
   "outputs": [],
   "source": [
    "def cramer(A,b,hassasiyet=4.0):\n",
    "    # A: Katsayı matrisi\n",
    "    # b: Sabit terim vektörü\n",
    "    # hassasiyet: Çözümün kaç basamaklı olacağı\n",
    "\n",
    "    # Önce girdileri kontrol edelim\n",
    "    # A matrisinin kare olup olmadığını kontrol edelim ve b vektör olmalı\n",
    "    if len(A.shape) != 2 or A.shape[0] != A.shape[1] or len(b.shape) != 1 or b.shape[0] != A.shape[0]:\n",
    "        print(\"Katsayı matrisi kare olmalı ve sabit terim vektörü matrisin boyutlarıyla uyumlu olmalı\")\n",
    "        return None\n",
    "\n",
    "    #if np.linalg.det(A) < np.power(10,-hassasiyet):\n",
    "    if np.abs(np.linalg.det(A)) < np.power(10,-hassasiyet):\n",
    "        print(\"Determinant sıfır veya sıfıra yakın olduğu için çözüm yok\")\n",
    "        return None\n",
    "\n",
    "    x = np.zeros(A.shape[0])\n",
    "    for j in range(A.shape[0]):\n",
    "        Aj = A.copy()\n",
    "        Aj[:,j] = b.copy()\n",
    "        x[j] = np.linalg.det(Aj) / np.linalg.det(A)\n",
    "    \n",
    "    return np.round(x,int(hassasiyet))\n"
   ]
  },
  {
   "cell_type": "code",
   "execution_count": 90,
   "metadata": {},
   "outputs": [
    {
     "name": "stdout",
     "output_type": "stream",
     "text": [
      "[-0.266  -2.3361 -3.5169  0.5921]\n"
     ]
    }
   ],
   "source": [
    "A = np.array([[1,-2,3,7],[3,4,-3,1],[9,-7,3,1],[2,-5,1,4]]).astype(float)\n",
    "b = np.array([-2,1,4,10]).astype(float)\n",
    "\n",
    "x = cramer(A,b)\n",
    "\n",
    "print(x)"
   ]
  },
  {
   "attachments": {},
   "cell_type": "markdown",
   "metadata": {},
   "source": [
    "## Gauss Metodu"
   ]
  },
  {
   "cell_type": "code",
   "execution_count": 93,
   "metadata": {},
   "outputs": [],
   "source": [
    "A = np.array([\n",
    "        [  1,  2,  3,  7,  3],\n",
    "        [  4,  5,  6,  8,  4],\n",
    "        [ -1,  2, -6, -3, -2],\n",
    "        [  1,  6,  2,  2, -1],\n",
    "        [  2, -1,  3, -9,  1]\n",
    "    ]).astype(float)\n",
    "b = np.array([-2,  3,  1, 7, -2]).astype(float)"
   ]
  },
  {
   "cell_type": "code",
   "execution_count": 92,
   "metadata": {},
   "outputs": [
    {
     "name": "stdout",
     "output_type": "stream",
     "text": [
      "-1856.999999999999\n"
     ]
    }
   ],
   "source": [
    "print(np.linalg.det(A))"
   ]
  },
  {
   "cell_type": "code",
   "execution_count": 94,
   "metadata": {},
   "outputs": [
    {
     "name": "stdout",
     "output_type": "stream",
     "text": [
      "[[ 1.  2.  3.  7.  3. -2.]\n",
      " [ 4.  5.  6.  8.  4.  3.]\n",
      " [-1.  2. -6. -3. -2.  1.]\n",
      " [ 1.  6.  2.  2. -1.  7.]\n",
      " [ 2. -1.  3. -9.  1. -2.]]\n"
     ]
    }
   ],
   "source": [
    "# Genişletilmiş denklem matrisi\n",
    "Ab = np.column_stack((A,b))\n",
    "print(Ab)"
   ]
  },
  {
   "cell_type": "code",
   "execution_count": 98,
   "metadata": {},
   "outputs": [],
   "source": [
    "satır = Ab.shape[0] # satır sayısı\n",
    "sutun = Ab.shape[1] # sütun sayısı\n",
    "\n",
    "for j in np.arange(0, sutun,1 ):\n",
    "    for i in np.arange(j+1, satır, 1):\n",
    "        Ab[i,j:] = Ab[i,j:].copy() - Ab[j,j:].copy() * Ab[i,j] / Ab[j,j]\n",
    "    "
   ]
  },
  {
   "cell_type": "code",
   "execution_count": 99,
   "metadata": {},
   "outputs": [
    {
     "name": "stdout",
     "output_type": "stream",
     "text": [
      "[[  1.           2.           3.           7.           3.\n",
      "   -2.        ]\n",
      " [  0.          -3.          -6.         -20.          -8.\n",
      "   11.        ]\n",
      " [  0.           0.         -11.         -22.66666667  -9.66666667\n",
      "   13.66666667]\n",
      " [  0.           0.           0.         -13.12121212  -6.75757576\n",
      "   12.48484848]\n",
      " [  0.           0.           0.           0.           4.2886836\n",
      "  -11.52886836]]\n"
     ]
    }
   ],
   "source": [
    "print(Ab)"
   ]
  },
  {
   "cell_type": "code",
   "execution_count": 102,
   "metadata": {},
   "outputs": [],
   "source": [
    "from IPython.display import display, Math\n",
    "\n",
    "def print_matrix(array):\n",
    "    matrix = ''\n",
    "    for row in array:\n",
    "        try:\n",
    "            for number in row:\n",
    "                matrix += f'{number:.4f}&'\n",
    "        except TypeError:\n",
    "            matrix += f'{row}&'\n",
    "        matrix = matrix[:-1] + r'\\\\[12pt]'\n",
    "    display(Math(r'\\begin{bmatrix*}[r]'+matrix+r'\\end{bmatrix*}'))"
   ]
  },
  {
   "cell_type": "code",
   "execution_count": 103,
   "metadata": {},
   "outputs": [
    {
     "data": {
      "text/latex": [
       "$\\displaystyle \\begin{bmatrix*}[r]1.0000&2.0000&3.0000&7.0000&3.0000&-2.0000\\\\[12pt]0.0000&-3.0000&-6.0000&-20.0000&-8.0000&11.0000\\\\[12pt]0.0000&0.0000&-11.0000&-22.6667&-9.6667&13.6667\\\\[12pt]0.0000&0.0000&0.0000&-13.1212&-6.7576&12.4848\\\\[12pt]0.0000&0.0000&0.0000&0.0000&4.2887&-11.5289\\\\[12pt]\\end{bmatrix*}$"
      ],
      "text/plain": [
       "<IPython.core.display.Math object>"
      ]
     },
     "metadata": {},
     "output_type": "display_data"
    }
   ],
   "source": [
    "print_matrix(Ab)"
   ]
  }
 ],
 "metadata": {
  "kernelspec": {
   "display_name": "bimu2002",
   "language": "python",
   "name": "python3"
  },
  "language_info": {
   "codemirror_mode": {
    "name": "ipython",
    "version": 3
   },
   "file_extension": ".py",
   "mimetype": "text/x-python",
   "name": "python",
   "nbconvert_exporter": "python",
   "pygments_lexer": "ipython3",
   "version": "3.8.10"
  },
  "orig_nbformat": 4
 },
 "nbformat": 4,
 "nbformat_minor": 2
}
