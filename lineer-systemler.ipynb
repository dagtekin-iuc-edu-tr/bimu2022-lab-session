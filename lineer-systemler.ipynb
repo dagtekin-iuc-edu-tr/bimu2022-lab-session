{
 "cells": [
  {
   "cell_type": "code",
   "execution_count": 1,
   "metadata": {},
   "outputs": [],
   "source": [
    "import numpy as np"
   ]
  },
  {
   "cell_type": "code",
   "execution_count": 142,
   "metadata": {},
   "outputs": [],
   "source": [
    "from IPython.display import display, Math\n",
    "\n",
    "def print_matrix(array):\n",
    "    matrix = ''\n",
    "    for row in array:\n",
    "        try:\n",
    "            for number in row:\n",
    "                matrix += f'{number}&'\n",
    "        except TypeError:\n",
    "            matrix += f'{row}&'\n",
    "        matrix = matrix[:-1] + r'\\\\'\n",
    "    display(Math(r'\\begin{bmatrix*}[r]'+matrix+r'\\end{bmatrix*}'))"
   ]
  },
  {
   "cell_type": "code",
   "execution_count": 106,
   "metadata": {},
   "outputs": [],
   "source": [
    "A = np.array([[1,2,3],[3,4,-3],[9,-7,2]])"
   ]
  },
  {
   "cell_type": "code",
   "execution_count": 36,
   "metadata": {},
   "outputs": [
    {
     "data": {
      "text/plain": [
       "3"
      ]
     },
     "execution_count": 36,
     "metadata": {},
     "output_type": "execute_result"
    }
   ],
   "source": [
    "A.shape[0]"
   ]
  },
  {
   "cell_type": "code",
   "execution_count": 35,
   "metadata": {},
   "outputs": [
    {
     "name": "stdout",
     "output_type": "stream",
     "text": [
      "[[ 3  4 -3]\n",
      " [ 9 -7  2]]\n"
     ]
    }
   ],
   "source": [
    "print(A[1:3][0:3])"
   ]
  },
  {
   "cell_type": "code",
   "execution_count": 14,
   "metadata": {},
   "outputs": [
    {
     "name": "stdout",
     "output_type": "stream",
     "text": [
      "-250.0000000000001\n"
     ]
    }
   ],
   "source": [
    "det = np.linalg.det(A)\n",
    "print(det)"
   ]
  },
  {
   "cell_type": "code",
   "execution_count": 162,
   "metadata": {},
   "outputs": [],
   "source": [
    "def cramer(A, b, hassasiyet=0.0001):\n",
    "    \n",
    "    # A: Katsayı matrisi\n",
    "    # b: Sonuç matrisi\n",
    "\n",
    "    # Önce girdileri kontrol edelim\n",
    "\n",
    "    # Önce A'nın matris, b'nin vektör olduğunu teyit edelim\n",
    "    if len(A.shape) != 2 or (len(b.shape) !=1):\n",
    "        print (\"A ve b yanlış boyutta\")\n",
    "        return None\n",
    "    \n",
    "    if A.shape[0] != A.shape[1]:\n",
    "        print (\"A matrisi kare olmalı!\")\n",
    "        return None\n",
    "    \n",
    "    # b vektörünün büyüklüğü \n",
    "\n",
    "    if A.shape[0] != b.shape[0]:\n",
    "        print (\"A ile b uyuşmuyor\")\n",
    "        return None\n",
    "    \n",
    "    # determinant sıfır olmamalı\n",
    "    if np.abs(np.linalg.det(A)) <= hassasiyet:\n",
    "        print (\"determinant sıfır olmamalı\")\n",
    "        return None\n",
    "    \n",
    "    x = np.zeros(len(b))\n",
    "    # print(x)\n",
    "    A_i = np.empty_like(A)\n",
    "    for i in range(A.shape[1]):\n",
    "        A_i[:]   = A\n",
    "        A_i[:,i] = b       \n",
    "        x[i] = np.linalg.det(A_i)/np.linalg.det(A)\n",
    "\n",
    "    return x\n",
    "\n",
    "\n"
   ]
  },
  {
   "cell_type": "code",
   "execution_count": 163,
   "metadata": {},
   "outputs": [
    {
     "name": "stdout",
     "output_type": "stream",
     "text": [
      "-1183.9999999999998\n"
     ]
    },
    {
     "data": {
      "text/latex": [
       "$\\displaystyle \\begin{bmatrix*}[r]0.3725\\\\-0.3294\\\\-0.4764\\\\-0.2289\\\\\\end{bmatrix*}$"
      ],
      "text/plain": [
       "<IPython.core.display.Math object>"
      ]
     },
     "metadata": {},
     "output_type": "display_data"
    }
   ],
   "source": [
    "A = np.array([[1,-2,3,7],[3,4,-3,1],[9,-7,3,1],[2,-5,1,4]])\n",
    "b = np.array([-2,1,4,1])\n",
    "\n",
    "print(np.linalg.det(A))\n",
    "\n",
    "x = cramer(A,b)\n",
    "\n",
    "try:\n",
    "    for j in range(x.shape[0]):\n",
    "        #print(x)\n",
    "        # print(\"x_%d = %.4f\" % (j,x[j]))\n",
    "        x[j] = np.round(x[j], 4)\n",
    "except:\n",
    "    print(\"Nope\")\n",
    "\n",
    "print_matrix(x)\n"
   ]
  },
  {
   "cell_type": "code",
   "execution_count": 131,
   "metadata": {},
   "outputs": [
    {
     "name": "stdout",
     "output_type": "stream",
     "text": [
      "-2.0000\n"
     ]
    }
   ],
   "source": [
    "b1 = A[0,0]*x[0]+A[0,1]*x[1]+A[0,2]*x[2]\n",
    "print(\"%6.4f\" % (b1))"
   ]
  }
 ],
 "metadata": {
  "kernelspec": {
   "display_name": "bimu2002",
   "language": "python",
   "name": "python3"
  },
  "language_info": {
   "codemirror_mode": {
    "name": "ipython",
    "version": 3
   },
   "file_extension": ".py",
   "mimetype": "text/x-python",
   "name": "python",
   "nbconvert_exporter": "python",
   "pygments_lexer": "ipython3",
   "version": "3.8.10"
  },
  "orig_nbformat": 4
 },
 "nbformat": 4,
 "nbformat_minor": 2
}
